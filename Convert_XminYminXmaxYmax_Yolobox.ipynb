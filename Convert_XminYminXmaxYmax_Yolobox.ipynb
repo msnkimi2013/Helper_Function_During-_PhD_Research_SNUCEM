{
  "nbformat": 4,
  "nbformat_minor": 0,
  "metadata": {
    "colab": {
      "provenance": []
    },
    "kernelspec": {
      "name": "python3",
      "display_name": "Python 3"
    },
    "language_info": {
      "name": "python"
    }
  },
  "cells": [
    {
      "cell_type": "code",
      "source": [
        "pip install pybboxes"
      ],
      "metadata": {
        "colab": {
          "base_uri": "https://localhost:8080/"
        },
        "id": "Z3WLrQ2s2sZV",
        "outputId": "9719a2e9-2bd5-489d-cf90-3240ddfd5d05"
      },
      "execution_count": null,
      "outputs": [
        {
          "output_type": "stream",
          "name": "stdout",
          "text": [
            "Looking in indexes: https://pypi.org/simple, https://us-python.pkg.dev/colab-wheels/public/simple/\n",
            "Requirement already satisfied: pybboxes in /usr/local/lib/python3.7/dist-packages (0.0.2)\n",
            "Requirement already satisfied: numpy in /usr/local/lib/python3.7/dist-packages (from pybboxes) (1.21.6)\n"
          ]
        }
      ]
    },
    {
      "cell_type": "code",
      "source": [
        "import pybboxes as pbx\n",
        "\n",
        "voc_bbox = (98, 345, 420, 462)\n",
        "W, H = 640, 480  # WxH of the image\n",
        "pbx.convert_bbox(voc_bbox, from_type=\"voc\", to_type=\"yolo\", image_width=W, image_height=H)"
      ],
      "metadata": {
        "colab": {
          "base_uri": "https://localhost:8080/"
        },
        "id": "IMhfvryd6C_J",
        "outputId": "2a000cc8-9007-47c7-85c4-2c6b093190db"
      },
      "execution_count": null,
      "outputs": [
        {
          "output_type": "execute_result",
          "data": {
            "text/plain": [
              "(0.4046875, 0.840625, 0.503125, 0.24375)"
            ]
          },
          "metadata": {},
          "execution_count": 10
        }
      ]
    },
    {
      "cell_type": "code",
      "source": [
        "import pybboxes as pbx\n",
        "\n",
        "voc_bbox = (98, 345, 420, 462)\n",
        "W, H = 640, 480  # WxH of the image\n",
        "a,b,c,d = pbx.convert_bbox(voc_bbox, from_type=\"voc\", to_type=\"yolo\", image_width=W, image_height=H)\n",
        "print (a,b,c,d,sep=\" \")"
      ],
      "metadata": {
        "colab": {
          "base_uri": "https://localhost:8080/"
        },
        "id": "UsH6sErK70wy",
        "outputId": "1ca74034-00f4-4d3c-e293-e91972096e7f"
      },
      "execution_count": null,
      "outputs": [
        {
          "output_type": "stream",
          "name": "stdout",
          "text": [
            "0.4046875 0.840625 0.503125 0.24375\n"
          ]
        }
      ]
    },
    {
      "cell_type": "code",
      "source": [
        "import pybboxes as pbx\n",
        "\n",
        "voc_bbox = (0, 0, 720, 1280)\n",
        "W, H = 720, 1280  # WxH of the image\n",
        "a,b,c,d = pbx.convert_bbox(voc_bbox, from_type=\"voc\", to_type=\"yolo\", image_width=W, image_height=H)\n",
        "print (a,b,c,d,sep=\" \")"
      ],
      "metadata": {
        "id": "eAXA9O3s-Gmw",
        "colab": {
          "base_uri": "https://localhost:8080/"
        },
        "outputId": "e66359fc-9aa7-4f93-87ec-72f2a6744222"
      },
      "execution_count": null,
      "outputs": [
        {
          "output_type": "stream",
          "name": "stdout",
          "text": [
            "0.5 0.5 1.0 1.0\n"
          ]
        }
      ]
    }
  ]
}