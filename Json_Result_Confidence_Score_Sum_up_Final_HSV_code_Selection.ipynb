{
  "nbformat": 4,
  "nbformat_minor": 0,
  "metadata": {
    "colab": {
      "provenance": [],
      "collapsed_sections": [
        "XLMsJ_S_sJBw"
      ]
    },
    "kernelspec": {
      "name": "python3",
      "display_name": "Python 3"
    },
    "language_info": {
      "name": "python"
    }
  },
  "cells": [
    {
      "cell_type": "markdown",
      "source": [
        "# **Test**"
      ],
      "metadata": {
        "id": "XLMsJ_S_sJBw"
      }
    },
    {
      "cell_type": "code",
      "execution_count": null,
      "metadata": {
        "id": "9SOH-Ll4SFHb",
        "colab": {
          "base_uri": "https://localhost:8080/"
        },
        "outputId": "4faf53a2-46c4-4fcf-b9f2-fbf4ac0ae1c2"
      },
      "outputs": [
        {
          "output_type": "stream",
          "name": "stdout",
          "text": [
            "{'class_id': 1, 'name': 'spark', 'relative_coordinates': {'center_x': 0.685818, 'center_y': 0.739532, 'width': 0.057553, 'height': 0.097134}, 'confidence': 0.279174}\n",
            "{'center_x': 0.685818, 'center_y': 0.739532, 'width': 0.057553, 'height': 0.097134}\n",
            "0.685818\n",
            "0.739532\n",
            "0.057553\n",
            "0.097134\n",
            "0.279174\n",
            "1\n"
          ]
        }
      ],
      "source": [
        "import json\n",
        "\n",
        "with open(\"1_result.json\", \"r\") as json_file:\n",
        "    my_dict = json.load(json_file)\n",
        "\n",
        "# print(my_dict)\n",
        "# print(my_dict[0])\n",
        "# print(my_dict[0]['frame_id'])\n",
        "# print(my_dict[0][\"objects\"])\n",
        "# print(len( my_dict[0][\"objects\"] ))\n",
        "\n",
        "print(my_dict[0][\"objects\"][0])\n",
        "print(my_dict[0][\"objects\"][0]['relative_coordinates'])\n",
        "print(my_dict[0][\"objects\"][0]['relative_coordinates']['center_x'])\n",
        "print(my_dict[0][\"objects\"][0]['relative_coordinates']['center_y'])\n",
        "print(my_dict[0][\"objects\"][0]['relative_coordinates']['width'])\n",
        "print(my_dict[0][\"objects\"][0]['relative_coordinates']['height'])\n",
        "\n",
        "print(my_dict[0][\"objects\"][0]['confidence'])\n",
        "\n",
        "print(my_dict[0][\"frame_id\"])"
      ]
    },
    {
      "cell_type": "code",
      "source": [
        "!pwd"
      ],
      "metadata": {
        "colab": {
          "base_uri": "https://localhost:8080/"
        },
        "id": "5QG-H7bVZYFG",
        "outputId": "96bb2645-05da-471a-d0d7-984d33b32012"
      },
      "execution_count": null,
      "outputs": [
        {
          "output_type": "stream",
          "name": "stdout",
          "text": [
            "/content\n"
          ]
        }
      ]
    },
    {
      "cell_type": "code",
      "source": [
        "!ls"
      ],
      "metadata": {
        "colab": {
          "base_uri": "https://localhost:8080/"
        },
        "id": "jtkpX5OfZZYl",
        "outputId": "92a58eaa-f455-41b8-ffc2-267f89b0f044"
      },
      "execution_count": null,
      "outputs": [
        {
          "output_type": "stream",
          "name": "stdout",
          "text": [
            "1_result.json  sample_data\n"
          ]
        }
      ]
    },
    {
      "cell_type": "markdown",
      "source": [
        "# **Confidence Sum-up & welding zone filter**"
      ],
      "metadata": {
        "id": "VjiwpaOjvemF"
      }
    },
    {
      "cell_type": "code",
      "source": [
        "!unzip /content/Vmin250_Color_Mask_BW_spark_source_and_individual_spark_Result_json.zip"
      ],
      "metadata": {
        "id": "a0dvFW7EJPCV"
      },
      "execution_count": null,
      "outputs": []
    },
    {
      "cell_type": "code",
      "source": [
        "%cd /content/Vmin250_Color_Mask_BW_spark_source_and_individual_spark_Result_json"
      ],
      "metadata": {
        "colab": {
          "base_uri": "https://localhost:8080/"
        },
        "id": "R-L8cl3cJOnq",
        "outputId": "c6a77763-ff74-485b-87f1-fff055e98b02"
      },
      "execution_count": null,
      "outputs": [
        {
          "output_type": "stream",
          "name": "stdout",
          "text": [
            "/content/Vmin250_Color_Mask_BW_spark_source_and_individual_spark_Result_json\n"
          ]
        }
      ]
    },
    {
      "cell_type": "code",
      "source": [
        "!pwd"
      ],
      "metadata": {
        "colab": {
          "base_uri": "https://localhost:8080/"
        },
        "id": "f9pk-1rEKORo",
        "outputId": "dbb164c8-6f39-422c-d015-e5428c647553"
      },
      "execution_count": null,
      "outputs": [
        {
          "output_type": "stream",
          "name": "stdout",
          "text": [
            "/content/Vmin250_Color_Mask_BW_spark_source_and_individual_spark_Result_json\n"
          ]
        }
      ]
    },
    {
      "cell_type": "code",
      "source": [
        "import json\n",
        "\n",
        "\n",
        "\n",
        "# image width and height variables\n",
        "# 每次都得换\n",
        "RGB_img_width = 1280\n",
        "RGB_img_height = 720\n",
        "\n",
        "\n",
        "\n",
        "######################################################################################\n",
        "\n",
        "\n",
        "\n",
        "# Welding Zone Filter variables\n",
        "# WZF 不工作 等于 图片 宽度 高度\n",
        "\n",
        "\n",
        "\n",
        "WZF_left_x = 0\n",
        "WZF_top_y = 0\n",
        "WZF_width = 1280\n",
        "WZF_height = 720\n",
        "\n",
        "\n",
        "\n",
        "# WZF 工作 小数 乘以 图片 宽度 高度\n",
        "\n",
        "\n",
        "\n",
        "# WZF_center_x = 0.593823 * RGB_img_width\n",
        "# WZF_center_y = 0.509614 * RGB_img_height\n",
        "# WZF_width = 0.501588 * RGB_img_width\n",
        "# WZF_height = 0.619709 * RGB_img_height\n",
        "\n",
        "# WZF_left_x = WZF_center_x - WZF_width / 2\n",
        "# WZF_top_y = WZF_center_y - WZF_height / 2\n",
        "\n",
        "\n",
        "\n",
        "#################################################################\n",
        "\n",
        "\n",
        "\n",
        "# confidence score each frame list\n",
        "confidence_list = []\n",
        "\n",
        "\n",
        "#########################################################################################################################\n",
        "# open json file Jin Yan\n",
        "\n",
        "with open(\"100_result.json\", \"r\") as json_file:\n",
        "    my_dict = json.load(json_file)\n",
        "\n",
        "\n",
        "\n",
        "##########################################################################################################################\n",
        "\n",
        "\n",
        "\n",
        "# print(len(my_dict))\n",
        "\n",
        "\n",
        "\n",
        "# loop in 51_list\n",
        "for j in range(len(my_dict)):\n",
        "\n",
        "\n",
        "\n",
        "  confidence_sum = 0\n",
        "\n",
        "\n",
        "\n",
        "  # loop in 51_list_dict_'objects'_list_dict\n",
        "  for i in range(len(my_dict[j]['objects'])):\n",
        "\n",
        "\n",
        "\n",
        "    # print(my_dict[j]['objects'][i]['confidence'])\n",
        "    # print(my_dict[j]['objects'][i]['relative_coordinates'])\n",
        "    # print(my_dict[j]['objects'][i]['relative_coordinates']['center_x'])\n",
        "    # print(my_dict[j]['objects'][i]['relative_coordinates']['center_y'])\n",
        "    # print(my_dict[j]['objects'][i]['relative_coordinates']['width'])\n",
        "    # print(my_dict[j]['objects'][i]['relative_coordinates']['height'])\n",
        "\n",
        "\n",
        "\n",
        "    # ith 'objects' 'relative_coordinates'\n",
        "    center_x = my_dict[j]['objects'][i]['relative_coordinates']['center_x'] * RGB_img_width\n",
        "    center_y = my_dict[j]['objects'][i]['relative_coordinates']['center_y'] * RGB_img_height\n",
        "    width = my_dict[j]['objects'][i]['relative_coordinates']['width'] * RGB_img_width\n",
        "    height = my_dict[j]['objects'][i]['relative_coordinates']['height'] * RGB_img_height\n",
        "\n",
        "\n",
        "\n",
        "    # if statemetn Welding Zone Filter(WZF)\n",
        "    if ( center_x - width / 2 ) > WZF_left_x:\n",
        "      if ( center_x + width / 2 ) < ( WZF_left_x + WZF_width ):\n",
        "        if ( center_y - height / 2 ) > WZF_top_y:\n",
        "          if ( center_y + height / 2 ) < ( WZF_top_y + WZF_height ):\n",
        "\n",
        "\n",
        "\n",
        "            # confidence score sum-up\n",
        "            confidence_sum = confidence_sum + ( my_dict[j]['objects'][i]['confidence'] * 100 )\n",
        "\n",
        "          else:\n",
        "            pass\n",
        "        else:\n",
        "          pass\n",
        "      else:\n",
        "        pass\n",
        "    else:\n",
        "      pass\n",
        "\n",
        "\n",
        "\n",
        "    # print('##################')\n",
        "\n",
        "\n",
        "\n",
        "  # print(confidence_sum)\n",
        "\n",
        "\n",
        "\n",
        "  # append confidence socre sum-up into a frame labeled list of list for sorting\n",
        "  confidence_list.append( [ ( j + 1 ), confidence_sum ] )\n",
        "\n",
        "\n",
        "\n",
        "  # reset sonfidence_sum for next j loop\n",
        "  confidence_sum = 0\n",
        "\n",
        "\n",
        "\n",
        "  # print('******************************************')\n",
        "\n",
        "\n",
        "\n",
        "  # for i in range(len(my_dict[0]['objects'])):\n",
        "  #   print(my_dict[0]['objects'][i]['confidence'])\n",
        "  #   print(my_dict[0]['objects'][i]['relative_coordinates'])\n",
        "  #   print(my_dict[0]['objects'][i]['relative_coordinates']['center_x'])\n",
        "  #   print(my_dict[0]['objects'][i]['relative_coordinates']['center_y'])\n",
        "  #   print(my_dict[0]['objects'][i]['relative_coordinates']['width'])\n",
        "  #   print(my_dict[0]['objects'][i]['relative_coordinates']['height'])\n",
        "\n",
        "\n",
        "\n",
        "# print(len(my_dict[0]['objects']))\n",
        "\n",
        "\n",
        "\n",
        "# print(confidence_list)\n",
        "\n",
        "\n",
        "\n",
        "# sorting confidence_list by confidence_sum\n",
        "confidence_list_sorted = sorted(confidence_list, key = lambda x: x[1], reverse=True)\n",
        "# print(confidence_list_sorted)\n",
        "\n",
        "\n",
        "\n",
        "# print final HSV color code\n",
        "print( confidence_list_sorted[0][0] * 51 )\n",
        "\n",
        "\n"
      ],
      "metadata": {
        "colab": {
          "base_uri": "https://localhost:8080/"
        },
        "id": "GD5D0Qy1vrMh",
        "outputId": "103d4df4-1882-4baf-e74b-bb53e72196aa"
      },
      "execution_count": null,
      "outputs": [
        {
          "output_type": "stream",
          "name": "stdout",
          "text": [
            "1428\n"
          ]
        }
      ]
    },
    {
      "cell_type": "code",
      "source": [],
      "metadata": {
        "id": "wC20Yx_OqvC4"
      },
      "execution_count": null,
      "outputs": []
    }
  ]
}