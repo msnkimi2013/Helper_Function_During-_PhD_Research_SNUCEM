{
  "nbformat": 4,
  "nbformat_minor": 0,
  "metadata": {
    "colab": {
      "provenance": []
    },
    "kernelspec": {
      "name": "python3",
      "display_name": "Python 3"
    },
    "language_info": {
      "name": "python"
    }
  },
  "cells": [
    {
      "cell_type": "markdown",
      "source": [
        "### generate test"
      ],
      "metadata": {
        "id": "xyazvVwKRKj1"
      }
    },
    {
      "cell_type": "code",
      "execution_count": null,
      "metadata": {
        "id": "01vUBcG2Q2Cz"
      },
      "outputs": [],
      "source": [
        "import os\n",
        "\n",
        "image_files = []\n",
        "os.chdir(os.path.join(\"data\", \"test\"))\n",
        "for filename in os.listdir(os.getcwd()):\n",
        "    if filename.endswith(\".jpg\"):\n",
        "        image_files.append(\"data/test/\" + filename)\n",
        "os.chdir(\"..\")\n",
        "with open(\"test.txt\", \"w\") as outfile:\n",
        "    for image in image_files:\n",
        "        outfile.write(image)\n",
        "        outfile.write(\"\\n\")\n",
        "    outfile.close()\n",
        "os.chdir(\"..\")"
      ]
    },
    {
      "cell_type": "markdown",
      "source": [
        "## generate train"
      ],
      "metadata": {
        "id": "7Q3pZfZoRYtw"
      }
    },
    {
      "cell_type": "code",
      "source": [
        "import os\n",
        "\n",
        "image_files = []\n",
        "os.chdir(os.path.join(\"data\", \"obj\"))\n",
        "for filename in os.listdir(os.getcwd()):\n",
        "    if filename.endswith(\".jpg\"):\n",
        "        image_files.append(\"data/obj/\" + filename)\n",
        "os.chdir(\"..\")\n",
        "with open(\"train.txt\", \"w\") as outfile:\n",
        "    for image in image_files:\n",
        "        outfile.write(image)\n",
        "        outfile.write(\"\\n\")\n",
        "    outfile.close()\n",
        "os.chdir(\"..\")"
      ],
      "metadata": {
        "id": "aZgc_0GhRe7v"
      },
      "execution_count": null,
      "outputs": []
    },
    {
      "cell_type": "markdown",
      "source": [
        "## JIN XI modified 20220929"
      ],
      "metadata": {
        "id": "xQHlyb7pUd0u"
      }
    },
    {
      "cell_type": "code",
      "source": [
        "# helper function\n",
        "!unzip obj_BW_spark_source_and_individual_spark.zip"
      ],
      "metadata": {
        "id": "oYEkZzV_XBNR"
      },
      "execution_count": null,
      "outputs": []
    },
    {
      "cell_type": "code",
      "source": [
        "# helper function\n",
        "%cd /content/obj_BW_spark_source_and_individual_spark"
      ],
      "metadata": {
        "colab": {
          "base_uri": "https://localhost:8080/"
        },
        "id": "Aj9k6NNgZvze",
        "outputId": "f169211e-0dba-4653-91c8-0278fefbef3a"
      },
      "execution_count": null,
      "outputs": [
        {
          "output_type": "stream",
          "name": "stdout",
          "text": [
            "/content/obj_BW_spark_source_and_individual_spark\n"
          ]
        }
      ]
    },
    {
      "cell_type": "code",
      "source": [
        "!pwd"
      ],
      "metadata": {
        "colab": {
          "base_uri": "https://localhost:8080/"
        },
        "id": "oiqqgxI8bhjx",
        "outputId": "af1136bb-626c-4bfb-dd9b-55789ec525ba"
      },
      "execution_count": null,
      "outputs": [
        {
          "output_type": "stream",
          "name": "stdout",
          "text": [
            "/content/obj_BW_spark_source_and_individual_spark\n"
          ]
        }
      ]
    },
    {
      "cell_type": "code",
      "source": [
        "import os\n",
        "\n",
        "image_files = []\n",
        "\n",
        "for filename in os.listdir(os.getcwd()):\n",
        "    if filename.endswith(\".jpg\"):\n",
        "        image_files.append(\"data/obj_BW_spark_source_and_individual_spark/\" + filename)\n",
        "\n",
        "# print(image_files)\n",
        "os.chdir(\"..\")\n",
        "\n",
        "with open(\"train_BW_spark_source_and_individual_spark.txt\", \"w\") as outfile:\n",
        "    for image in image_files:\n",
        "        outfile.write(image)\n",
        "        outfile.write(\"\\n\")\n",
        "    outfile.close()\n"
      ],
      "metadata": {
        "id": "BY4G2LEsUhz9"
      },
      "execution_count": null,
      "outputs": []
    },
    {
      "cell_type": "markdown",
      "source": [
        "## **TEST**"
      ],
      "metadata": {
        "id": "YH40MoR0cjrH"
      }
    },
    {
      "cell_type": "code",
      "source": [
        "# helper function\n",
        "!unzip test_BW_spark_source_and_individual_spark.zip"
      ],
      "metadata": {
        "id": "aAsyLkAUcnDi"
      },
      "execution_count": null,
      "outputs": []
    },
    {
      "cell_type": "code",
      "source": [
        "# helper function\n",
        "%cd /content/test_BW_spark_source_and_individual_spark"
      ],
      "metadata": {
        "colab": {
          "base_uri": "https://localhost:8080/"
        },
        "id": "2Fucs68gcpvQ",
        "outputId": "df34642b-acb9-477e-84af-184ae911a856"
      },
      "execution_count": null,
      "outputs": [
        {
          "output_type": "stream",
          "name": "stdout",
          "text": [
            "/content/test_BW_spark_source_and_individual_spark\n"
          ]
        }
      ]
    },
    {
      "cell_type": "code",
      "source": [
        "!pwd"
      ],
      "metadata": {
        "colab": {
          "base_uri": "https://localhost:8080/"
        },
        "id": "9R7CE1dbctw4",
        "outputId": "411b7b0f-e221-461c-c9d4-877305952f52"
      },
      "execution_count": null,
      "outputs": [
        {
          "output_type": "stream",
          "name": "stdout",
          "text": [
            "/content/test_BW_spark_source_and_individual_spark\n"
          ]
        }
      ]
    },
    {
      "cell_type": "code",
      "source": [
        "import os\n",
        "\n",
        "image_files = []\n",
        "\n",
        "for filename in os.listdir(os.getcwd()):\n",
        "    if filename.endswith(\".jpg\"):\n",
        "        image_files.append(\"data/test_BW_spark_source_and_individual_spark/\" + filename)\n",
        "\n",
        "# print(image_files)\n",
        "os.chdir(\"..\")\n",
        "\n",
        "with open(\"test_BW_spark_source_and_individual_spark.txt\", \"w\") as outfile:\n",
        "    for image in image_files:\n",
        "        outfile.write(image)\n",
        "        outfile.write(\"\\n\")\n",
        "    outfile.close()\n"
      ],
      "metadata": {
        "id": "kxGYBBsscues"
      },
      "execution_count": null,
      "outputs": []
    },
    {
      "cell_type": "markdown",
      "source": [
        "# **新建100个** txt文件"
      ],
      "metadata": {
        "id": "7k-lz3kxAvEb"
      }
    },
    {
      "cell_type": "code",
      "source": [
        "for i in range(1, 101):\n",
        "  # print(i)\n",
        "  I = str(i)\n",
        "  with open( I + \".txt\", \"w\") as outfile:\n",
        "    outfile.write(\"\\n\")\n",
        "  outfile.close()"
      ],
      "metadata": {
        "id": "aS7tQEdDA2JT"
      },
      "execution_count": null,
      "outputs": []
    },
    {
      "cell_type": "code",
      "source": [
        "!zip /content/file.zip /content/"
      ],
      "metadata": {
        "colab": {
          "base_uri": "https://localhost:8080/"
        },
        "id": "JhN62cK8B0eU",
        "outputId": "dbec45f0-6e88-426d-a101-6fb6bca73b34"
      },
      "execution_count": null,
      "outputs": [
        {
          "output_type": "stream",
          "name": "stdout",
          "text": [
            "  adding: content/ (stored 0%)\n"
          ]
        }
      ]
    }
  ]
}