{
  "nbformat": 4,
  "nbformat_minor": 0,
  "metadata": {
    "colab": {
      "provenance": []
    },
    "kernelspec": {
      "name": "python3",
      "display_name": "Python 3"
    },
    "language_info": {
      "name": "python"
    }
  },
  "cells": [
    {
      "cell_type": "code",
      "execution_count": null,
      "metadata": {
        "id": "wDGdZmJ0iwU2"
      },
      "outputs": [],
      "source": [
        "import torch"
      ]
    },
    {
      "cell_type": "code",
      "source": [
        "!nvidia-smi"
      ],
      "metadata": {
        "id": "IFL60Udssv7Y"
      },
      "execution_count": null,
      "outputs": []
    },
    {
      "cell_type": "code",
      "source": [
        "import cv2"
      ],
      "metadata": {
        "id": "Q7N_87z9i4my"
      },
      "execution_count": null,
      "outputs": []
    },
    {
      "cell_type": "code",
      "source": [
        "cv2.__version__\n",
        "torch.__version__"
      ],
      "metadata": {
        "id": "oYbthUooi-No",
        "colab": {
          "base_uri": "https://localhost:8080/",
          "height": 35
        },
        "outputId": "f02e1427-9786-40c7-f50a-f07edf60a75d"
      },
      "execution_count": null,
      "outputs": [
        {
          "output_type": "execute_result",
          "data": {
            "text/plain": [
              "'1.10.0+cu111'"
            ],
            "application/vnd.google.colaboratory.intrinsic+json": {
              "type": "string"
            }
          },
          "metadata": {},
          "execution_count": 6
        }
      ]
    },
    {
      "cell_type": "code",
      "source": [
        "import torchvision"
      ],
      "metadata": {
        "id": "fmBP_wB0pGjE"
      },
      "execution_count": null,
      "outputs": []
    },
    {
      "cell_type": "code",
      "source": [
        "import torch\n",
        "import torchvision.ops.boxes as bops\n",
        "\n",
        "box1 = torch.tensor([[511, 41, 577, 76]], dtype=torch.float)\n",
        "box2 = torch.tensor([[544, 59, 610, 94]], dtype=torch.float)\n",
        "iou = bops.box_iou(box1, box2)\n",
        "print(iou)"
      ],
      "metadata": {
        "colab": {
          "base_uri": "https://localhost:8080/"
        },
        "id": "EBBrzV8DzzdN",
        "outputId": "682da9ed-0c65-46a3-a694-4607f6864111"
      },
      "execution_count": null,
      "outputs": [
        {
          "output_type": "stream",
          "name": "stdout",
          "text": [
            "tensor([[0.1382]])\n"
          ]
        }
      ]
    },
    {
      "cell_type": "code",
      "source": [
        "from shapely.geometry import Polygon\n",
        "\n",
        "def calculate_iou(box_1, box_2):\n",
        "    poly_1 = Polygon(box_1)\n",
        "    poly_2 = Polygon(box_2)\n",
        "    iou = poly_1.intersection(poly_2).area / poly_1.union(poly_2).area\n",
        "    return iou\n",
        "\n",
        "\n",
        "box_1 = [[511, 41], [577, 41], [577, 76], [511, 76]]\n",
        "box_2 = [[544, 59], [610, 59], [610, 94], [544, 94]]\n",
        "\n",
        "print(calculate_iou(box_1, box_2))"
      ],
      "metadata": {
        "colab": {
          "base_uri": "https://localhost:8080/"
        },
        "id": "c7tVusKe0MZN",
        "outputId": "621ac717-cd3e-476a-8aa2-e52aedd6286e"
      },
      "execution_count": null,
      "outputs": [
        {
          "output_type": "stream",
          "name": "stdout",
          "text": [
            "0.13821138211382114\n"
          ]
        }
      ]
    }
  ]
}