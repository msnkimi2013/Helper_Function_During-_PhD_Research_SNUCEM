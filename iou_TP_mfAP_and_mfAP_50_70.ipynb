{
  "nbformat": 4,
  "nbformat_minor": 0,
  "metadata": {
    "colab": {
      "provenance": [],
      "collapsed_sections": [
        "4KaVtvqrR77k",
        "fkfgjBH4ZkK-"
      ]
    },
    "kernelspec": {
      "name": "python3",
      "display_name": "Python 3"
    },
    "language_info": {
      "name": "python"
    }
  },
  "cells": [
    {
      "cell_type": "markdown",
      "source": [
        "# **TEST**"
      ],
      "metadata": {
        "id": "UC8-nyqrDq6U"
      }
    },
    {
      "cell_type": "code",
      "source": [
        "# IoU calculation\n",
        "\n",
        "from shapely.geometry import Polygon\n",
        "\n",
        "def calculate_iou(box_1, box_2):\n",
        "    poly_1 = Polygon(box_1)\n",
        "    poly_2 = Polygon(box_2)\n",
        "    iou = poly_1.intersection(poly_2).area / poly_1.union(poly_2).area\n",
        "    return iou\n",
        "\n",
        "\n",
        "box_1 = [[511, 41], [577, 41], [577, 76], [511, 76]]\n",
        "box_2 = [[544, 59], [610, 59], [610, 94], [544, 94]]\n",
        "\n",
        "print(calculate_iou(box_1, box_2))"
      ],
      "metadata": {
        "colab": {
          "base_uri": "https://localhost:8080/"
        },
        "id": "c7tVusKe0MZN",
        "outputId": "1d02ac73-99e3-425a-c37e-ea2a8e32bd7f"
      },
      "execution_count": null,
      "outputs": [
        {
          "output_type": "stream",
          "name": "stdout",
          "text": [
            "0.12686567164179105\n"
          ]
        }
      ]
    },
    {
      "cell_type": "code",
      "source": [
        "box_1 = [[511, 41], [577, 41], [577, 76], [511, 76]]\n",
        "box_2 = [[544, 59], [610, 59], [610, 94], [544, 94]]\n",
        "\n",
        "box_D\n",
        "box_GT\n",
        "\n",
        "# xywh to xmin_ymin_xmax_ymax\n",
        "box_D\n",
        "list_xywh = [x, y, w, h]\n",
        "x_max = list_xywh[0] + list_xywh[2]\n",
        "y_max = list_xywh[1] + list_xywh[3]\n",
        "list_xyminmax = [list_xywh[0], list_xywh[1], x_max, y_max]\n",
        "\n",
        "# xmin_ymin_xmax_ymax to iou box\n",
        "list_xyminmax = [x_min, y_min, x_max, y_max]\n",
        "# box = [[x_min, y_min], [x_max, y_min], [x_max, y_max], [x_min, y_max]]\n",
        "box = [[ list_xyminmax[0], list_xyminmax[1] ], [ list_xyminmax[2], list_xyminmax[1] ], [ list_xyminmax[2], list_xyminmax[3] ], [ list_xyminmax[0], list_xyminmax[3] ]]\n",
        "\n",
        "\n"
      ],
      "metadata": {
        "id": "T0kqX_vV3erV"
      },
      "execution_count": null,
      "outputs": []
    },
    {
      "cell_type": "code",
      "source": [
        "# test xmin ymin xmax ymax to box\n",
        "\n",
        "list_test = [511, 41, 577, 76]\n",
        "\n",
        "box = [[ list_test[0], list_test[1] ], [ list_test[2], list_test[1] ], [ list_test[2], list_test[3] ], [ list_test[0], list_test[3] ]]\n",
        "\n",
        "print(box)"
      ],
      "metadata": {
        "id": "OPSEmouc3aMU",
        "colab": {
          "base_uri": "https://localhost:8080/"
        },
        "outputId": "986599a8-3ddf-4ce7-cfcb-d4df9e7bc297"
      },
      "execution_count": null,
      "outputs": [
        {
          "output_type": "stream",
          "name": "stdout",
          "text": [
            "[[511, 41], [577, 41], [577, 76], [511, 76]]\n"
          ]
        }
      ]
    },
    {
      "cell_type": "code",
      "source": [
        "!ls"
      ],
      "metadata": {
        "colab": {
          "base_uri": "https://localhost:8080/"
        },
        "id": "ghSS3ylSLSTW",
        "outputId": "60ba0916-9b89-4a55-e449-06e6c0e0e556"
      },
      "execution_count": null,
      "outputs": [
        {
          "output_type": "stream",
          "name": "stdout",
          "text": [
            "Detection_xywh_box_wh1_filtered.txt\t\t   sample_data\n",
            "Ground_Truth_xmin_ymin_xmax_ymax_box_only_num.txt\n"
          ]
        }
      ]
    },
    {
      "cell_type": "code",
      "source": [
        "# Read TXT file dataframe\n",
        "\n",
        "import pandas as pd\n",
        "\n",
        "Detection_df = pd.read_csv('Detection_xywh_box_wh1_filtered.txt', sep=\" \", header=None)\n",
        "\n",
        "Ground_Truth_df = pd.read_csv('Ground_Truth_xmin_ymin_xmax_ymax_box_only_num.txt', sep=\" \", header=None)\n",
        "\n",
        "print(Detection_df)"
      ],
      "metadata": {
        "colab": {
          "base_uri": "https://localhost:8080/"
        },
        "id": "jd7zHisoLTTs",
        "outputId": "f55c68e3-d423-47bc-8a62-4b52e6ff9f79"
      },
      "execution_count": null,
      "outputs": [
        {
          "output_type": "stream",
          "name": "stdout",
          "text": [
            "       0     1   2    3\n",
            "0    418  1212  15   68\n",
            "1    561  1077  15  110\n",
            "2    424  1056  11   68\n",
            "3    351  1048  15   61\n",
            "4    370   993  22  103\n",
            "..   ...   ...  ..  ...\n",
            "121  311   312   3   24\n",
            "122  522   284   6    8\n",
            "123  668   192  44   29\n",
            "124  510   158  36   33\n",
            "125  255    59   2    7\n",
            "\n",
            "[126 rows x 4 columns]\n"
          ]
        }
      ]
    },
    {
      "cell_type": "code",
      "source": [
        "print(Ground_Truth_df)"
      ],
      "metadata": {
        "colab": {
          "base_uri": "https://localhost:8080/"
        },
        "id": "DriWLhlwLkFu",
        "outputId": "f214d1ff-b5db-44b8-900a-097093f68173"
      },
      "execution_count": null,
      "outputs": [
        {
          "output_type": "stream",
          "name": "stdout",
          "text": [
            "       0    1    2    3\n",
            "0    665  190  712  226\n",
            "1    510  159  549  191\n",
            "2    522  285  528  293\n",
            "3    407  351  413  363\n",
            "4    451  372  463  397\n",
            "..   ...  ...  ...  ...\n",
            "118  679  907  701  970\n",
            "119  451  489  460  505\n",
            "120  464  517  471  528\n",
            "121  521  528  528  544\n",
            "122  485  511  489  529\n",
            "\n",
            "[123 rows x 4 columns]\n"
          ]
        }
      ]
    },
    {
      "cell_type": "code",
      "source": [
        "# dataframe to list\n",
        "\n",
        "Detection_list = Detection_df.values.tolist()\n",
        "\n",
        "print(Detection_list)\n",
        "print(len(Detection_list))"
      ],
      "metadata": {
        "colab": {
          "base_uri": "https://localhost:8080/"
        },
        "id": "THWz7WTZL0vX",
        "outputId": "25f54eb6-af5c-46d4-bf36-be3c01e7c7c0"
      },
      "execution_count": null,
      "outputs": [
        {
          "output_type": "stream",
          "name": "stdout",
          "text": [
            "[[418, 1212, 15, 68], [561, 1077, 15, 110], [424, 1056, 11, 68], [351, 1048, 15, 61], [370, 993, 22, 103], [336, 993, 17, 55], [477, 946, 12, 88], [545, 934, 10, 82], [337, 918, 28, 84], [680, 908, 20, 62], [365, 896, 9, 34], [474, 880, 7, 57], [303, 876, 23, 69], [576, 831, 17, 94], [344, 824, 20, 60], [450, 798, 10, 52], [309, 792, 23, 80], [640, 790, 10, 31], [487, 779, 7, 64], [545, 776, 6, 30], [697, 771, 22, 53], [263, 769, 13, 31], [713, 747, 7, 14], [648, 739, 24, 53], [292, 737, 27, 67], [445, 736, 12, 58], [530, 734, 6, 35], [655, 722, 11, 29], [427, 721, 4, 6], [567, 720, 3, 12], [399, 719, 20, 62], [472, 718, 12, 61], [314, 718, 33, 49], [690, 712, 11, 31], [672, 712, 16, 33], [490, 697, 4, 33], [506, 695, 4, 15], [378, 692, 30, 86], [697, 689, 11, 22], [514, 684, 10, 44], [570, 677, 11, 37], [425, 677, 21, 39], [641, 674, 20, 34], [609, 673, 3, 9], [360, 666, 14, 35], [188, 657, 30, 39], [336, 656, 26, 56], [373, 653, 14, 35], [376, 645, 4, 17], [608, 642, 10, 19], [63, 642, 17, 11], [480, 639, 11, 37], [532, 632, 12, 74], [414, 631, 13, 30], [625, 627, 16, 45], [713, 624, 7, 19], [521, 624, 8, 26], [407, 616, 7, 23], [366, 609, 4, 9], [230, 609, 22, 29], [484, 608, 8, 26], [457, 608, 5, 20], [386, 606, 6, 13], [279, 606, 33, 45], [131, 606, 5, 4], [476, 602, 3, 12], [392, 600, 3, 6], [402, 596, 3, 10], [409, 593, 7, 23], [469, 590, 11, 38], [184, 589, 25, 26], [696, 582, 3, 6], [424, 582, 8, 26], [522, 576, 9, 33], [428, 576, 14, 71], [384, 576, 4, 4], [354, 576, 20, 20], [317, 576, 6, 11], [332, 573, 7, 7], [256, 573, 55, 75], [606, 564, 2, 8], [574, 564, 10, 28], [181, 561, 31, 28], [219, 556, 31, 29], [613, 554, 9, 21], [360, 553, 11, 33], [680, 550, 5, 6], [502, 550, 4, 8], [288, 549, 20, 11], [440, 545, 8, 27], [347, 545, 9, 5], [552, 544, 5, 22], [250, 535, 8, 9], [451, 533, 8, 53], [380, 530, 68, 42], [329, 529, 3, 10], [688, 524, 32, 22], [380, 521, 11, 18], [520, 520, 10, 32], [595, 518, 13, 24], [464, 518, 5, 10], [485, 512, 3, 16], [373, 508, 13, 14], [412, 505, 3, 11], [413, 504, 13, 22], [497, 495, 16, 53], [451, 490, 8, 14], [691, 483, 17, 17], [427, 474, 13, 21], [467, 473, 7, 19], [408, 468, 8, 6], [648, 464, 20, 18], [211, 464, 2, 9], [251, 460, 20, 6], [565, 455, 5, 14], [350, 448, 60, 20], [277, 448, 23, 4], [633, 420, 20, 21], [457, 372, 7, 13], [447, 358, 3, 8], [410, 352, 3, 8], [311, 312, 3, 24], [522, 284, 6, 8], [668, 192, 44, 29], [510, 158, 36, 33], [255, 59, 2, 7]]\n",
            "126\n"
          ]
        }
      ]
    },
    {
      "cell_type": "code",
      "source": [
        "# dataframe to list\n",
        "\n",
        "Ground_Truth_list = Ground_Truth_df.values.tolist()\n",
        "\n",
        "print(Ground_Truth_list)\n",
        "print(len(Ground_Truth_list))"
      ],
      "metadata": {
        "colab": {
          "base_uri": "https://localhost:8080/"
        },
        "id": "X5Dpf8vGM_go",
        "outputId": "11a6578a-9e96-4119-8f87-e2306321e9c6"
      },
      "execution_count": null,
      "outputs": [
        {
          "output_type": "stream",
          "name": "stdout",
          "text": [
            "[[665, 190, 712, 226], [510, 159, 549, 191], [522, 285, 528, 293], [407, 351, 413, 363], [451, 372, 463, 397], [445, 356, 452, 367], [389, 393, 403, 404], [623, 415, 655, 444], [648, 465, 669, 484], [690, 482, 708, 498], [219, 556, 248, 585], [181, 562, 211, 589], [185, 590, 209, 615], [230, 610, 254, 637], [187, 656, 220, 696], [63, 638, 85, 654], [563, 452, 570, 469], [594, 519, 609, 541], [613, 553, 623, 575], [603, 562, 609, 573], [608, 574, 613, 582], [573, 562, 585, 593], [552, 545, 558, 567], [687, 524, 720, 543], [680, 548, 687, 557], [693, 580, 700, 592], [465, 473, 475, 495], [426, 471, 440, 496], [407, 467, 416, 475], [422, 480, 426, 488], [287, 547, 309, 561], [255, 573, 309, 652], [279, 605, 311, 654], [374, 507, 386, 522], [380, 520, 391, 541], [413, 504, 426, 527], [411, 501, 416, 515], [379, 533, 441, 573], [439, 545, 447, 573], [450, 531, 461, 587], [335, 657, 360, 712], [480, 639, 491, 675], [534, 633, 544, 706], [521, 624, 529, 650], [522, 575, 530, 608], [501, 497, 511, 544], [415, 629, 425, 663], [428, 586, 441, 648], [424, 576, 432, 609], [406, 616, 415, 640], [409, 592, 416, 618], [401, 591, 406, 609], [385, 595, 396, 621], [624, 622, 642, 671], [608, 641, 620, 662], [607, 671, 615, 688], [641, 673, 662, 708], [698, 689, 708, 711], [690, 712, 702, 742], [671, 711, 688, 745], [529, 733, 538, 768], [544, 776, 553, 808], [515, 683, 525, 728], [505, 694, 511, 710], [489, 697, 494, 731], [473, 718, 482, 779], [444, 735, 456, 793], [449, 797, 460, 851], [486, 780, 493, 842], [648, 739, 672, 790], [654, 723, 666, 749], [697, 772, 718, 826], [713, 746, 720, 762], [712, 624, 720, 642], [640, 789, 651, 822], [569, 678, 582, 716], [569, 650, 574, 664], [566, 721, 571, 733], [469, 591, 479, 621], [456, 608, 463, 628], [485, 607, 491, 633], [501, 625, 504, 633], [425, 676, 444, 714], [378, 692, 407, 781], [400, 718, 417, 782], [361, 665, 373, 703], [373, 653, 386, 691], [376, 644, 381, 664], [372, 649, 377, 655], [364, 607, 371, 626], [354, 573, 375, 595], [359, 552, 371, 584], [347, 544, 357, 552], [328, 528, 333, 540], [332, 573, 339, 581], [344, 567, 349, 575], [318, 577, 324, 585], [251, 534, 260, 544], [130, 602, 138, 613], [144, 575, 148, 581], [316, 720, 341, 763], [293, 737, 314, 799], [262, 769, 275, 798], [309, 792, 331, 874], [303, 876, 327, 944], [344, 824, 363, 884], [335, 917, 366, 1005], [365, 896, 374, 931], [338, 994, 353, 1048], [351, 1049, 366, 1109], [373, 990, 394, 1094], [419, 1054, 436, 1126], [475, 945, 489, 1037], [473, 880, 482, 938], [543, 929, 556, 1016], [575, 830, 594, 922], [559, 1073, 578, 1186], [418, 1211, 435, 1280], [679, 907, 701, 970], [451, 489, 460, 505], [464, 517, 471, 528], [521, 528, 528, 544], [485, 511, 489, 529]]\n",
            "123\n"
          ]
        }
      ]
    },
    {
      "cell_type": "code",
      "source": [
        "print(Detection_list[0])\n",
        "print(Ground_Truth_list[0])"
      ],
      "metadata": {
        "colab": {
          "base_uri": "https://localhost:8080/"
        },
        "id": "zFSfeyArNa3p",
        "outputId": "f505a76e-3ba2-48ed-e621-acd20e728416"
      },
      "execution_count": null,
      "outputs": [
        {
          "output_type": "stream",
          "name": "stdout",
          "text": [
            "[418, 1212, 15, 68]\n",
            "[665, 190, 712, 226]\n"
          ]
        }
      ]
    },
    {
      "cell_type": "code",
      "source": [
        "i = 120\n",
        "print(Detection_list[i])\n",
        "print(Ground_Truth_list[i])"
      ],
      "metadata": {
        "colab": {
          "base_uri": "https://localhost:8080/"
        },
        "id": "AScNrEskNmfI",
        "outputId": "3d6bd6ee-2745-483c-8776-7b40dad57ea5"
      },
      "execution_count": null,
      "outputs": [
        {
          "output_type": "stream",
          "name": "stdout",
          "text": [
            "[410, 352, 3, 8]\n",
            "[464, 517, 471, 528]\n"
          ]
        }
      ]
    },
    {
      "cell_type": "markdown",
      "source": [
        "# **mfAP API starts here**"
      ],
      "metadata": {
        "id": "4KaVtvqrR77k"
      }
    },
    {
      "cell_type": "code",
      "source": [
        "from shapely.geometry import Polygon\n",
        "import pandas as pd\n",
        "\n",
        "### variables\n",
        "d = 1\n",
        "g = 1\n",
        "x_max = 0\n",
        "y_max = 0\n",
        "Detection_xyminmax = []\n",
        "Ground_Truth_xyminmax = []\n",
        "box_D = []\n",
        "box_G = []\n",
        "TP_50 = 0\n",
        "TP_55 = 0\n",
        "TP_60 = 0\n",
        "TP_65 = 0\n",
        "TP_70 = 0\n",
        "TP_75 = 0\n",
        "TP_80 = 0\n",
        "TP_85 = 0\n",
        "TP_90 = 0\n",
        "TP_95 = 0\n",
        "\n",
        "### iou calculation function\n",
        "def calculate_iou(box_1, box_2):\n",
        "    poly_1 = Polygon(box_1)\n",
        "    poly_2 = Polygon(box_2)\n",
        "    iou = poly_1.intersection(poly_2).area / poly_1.union(poly_2).area\n",
        "    return iou\n",
        "\n",
        "### input data from text file Detection and Ground Truth\n",
        "Detection_df = pd.read_csv('Detection_xywh_box_wh1_filtered.txt', sep=\" \", header=None)\n",
        "Detection_list = Detection_df.values.tolist()\n",
        "\n",
        "Ground_Truth_df = pd.read_csv('Ground_Truth_xmin_ymin_xmax_ymax_box_only_num.txt', sep=\" \", header=None)\n",
        "Ground_Truth_list = Ground_Truth_df.values.tolist()\n",
        "\n",
        "### loop the Detection list\n",
        "for d in range(len(Detection_list)) :\n",
        "  d = d - 1\n",
        "  Detection_xywh = Detection_list[d]\n",
        "\n",
        "  # xywh to xmin ymin xmax ymax\n",
        "  x_max = Detection_xywh[0] + Detection_xywh[2]\n",
        "  y_max = Detection_xywh[1] + Detection_xywh[3]\n",
        "  Detection_xyminmax = [Detection_xywh[0], Detection_xywh[1], x_max, y_max]\n",
        "\n",
        "  # xmin ymin xmax ymax to iou box\n",
        "  box_D = [[ Detection_xyminmax[0], Detection_xyminmax[1] ], [ Detection_xyminmax[2], Detection_xyminmax[1] ], [ Detection_xyminmax[2], Detection_xyminmax[3] ], [ Detection_xyminmax[0], Detection_xyminmax[3] ]]\n",
        "\n",
        "  # loop the Ground Truth list\n",
        "  for g in range(len(Ground_Truth_list)) :\n",
        "    g = g - 1\n",
        "    Ground_Truth_xyminmax = Ground_Truth_list[g]\n",
        "\n",
        "    # xmin ymin xmax ymax to iou box\n",
        "    box_G = [[ Ground_Truth_xyminmax[0], Ground_Truth_xyminmax[1] ], [ Ground_Truth_xyminmax[2], Ground_Truth_xyminmax[1] ], [ Ground_Truth_xyminmax[2], Ground_Truth_xyminmax[3] ], [ Ground_Truth_xyminmax[0], Ground_Truth_xyminmax[3] ]]\n",
        "\n",
        "    iou = calculate_iou(box_D, box_G)\n",
        "    # print(iou)\n",
        "\n",
        "    if iou > 0.5:\n",
        "      TP_50 = TP_50 + 1\n",
        "      if iou > 0.55:\n",
        "        TP_55 = TP_55 + 1\n",
        "        if iou > 0.6:\n",
        "          TP_60 = TP_60 + 1\n",
        "          if iou > 0.65:\n",
        "            TP_65 = TP_65 + 1\n",
        "            if iou > 0.7:\n",
        "              TP_70 = TP_70 + 1\n",
        "              if iou > 0.75:\n",
        "                TP_75 = TP_75 + 1\n",
        "                if iou > 0.8:\n",
        "                  TP_80 = TP_80 + 1\n",
        "                  if iou > 0.85:\n",
        "                    TP_85 = TP_85 + 1\n",
        "                    if iou > 0.9:\n",
        "                      TP_90 = TP_90 + 1\n",
        "                      if iou > 0.95:\n",
        "                        TP_95 = TP_95 + 1\n",
        "    else:\n",
        "      pass\n",
        "\n",
        "print(\"TP_50 = \", TP_50)\n",
        "print(\"TP_55 = \", TP_55)\n",
        "print(\"TP_60 = \", TP_60)\n",
        "print(\"TP_65 = \", TP_65)\n",
        "print(\"TP_70 = \", TP_70)\n",
        "print(\"TP_75 = \", TP_75)\n",
        "print(\"TP_80 = \", TP_80)\n",
        "print(\"TP_85 = \", TP_85)\n",
        "print(\"TP_90 = \", TP_90)\n",
        "print(\"TP_95 = \", TP_95)\n",
        "\n",
        "Precision_50 = TP_50 / len(Detection_list)\n",
        "Precision_55 = TP_55 / len(Detection_list)\n",
        "Precision_60 = TP_60 / len(Detection_list)\n",
        "Precision_65 = TP_65 / len(Detection_list)\n",
        "Precision_70 = TP_70 / len(Detection_list)\n",
        "Precision_75 = TP_75 / len(Detection_list)\n",
        "Precision_80 = TP_80 / len(Detection_list)\n",
        "Precision_85 = TP_85 / len(Detection_list)\n",
        "Precision_90 = TP_90 / len(Detection_list)\n",
        "Precision_95 = TP_95 / len(Detection_list)\n",
        "\n",
        "print(\"Precision 50 = \", Precision_50)\n",
        "print(\"Precision 55 = \", Precision_55)\n",
        "print(\"Precision 60 = \", Precision_60)\n",
        "print(\"Precision 65 = \", Precision_65)\n",
        "print(\"Precision 70 = \", Precision_70)\n",
        "print(\"Precision 75 = \", Precision_75)\n",
        "print(\"Precision 80 = \", Precision_80)\n",
        "print(\"Precision 85 = \", Precision_85)\n",
        "print(\"Precision 90 = \", Precision_90)\n",
        "print(\"Precision 95 = \", Precision_95)\n",
        "\n",
        "Recall_50 = TP_50 / len(Ground_Truth_list)\n",
        "Recall_55 = TP_55 / len(Ground_Truth_list)\n",
        "Recall_60 = TP_60 / len(Ground_Truth_list)\n",
        "Recall_65 = TP_65 / len(Ground_Truth_list)\n",
        "Recall_70 = TP_70 / len(Ground_Truth_list)\n",
        "Recall_75 = TP_75 / len(Ground_Truth_list)\n",
        "Recall_80 = TP_80 / len(Ground_Truth_list)\n",
        "Recall_85 = TP_85 / len(Ground_Truth_list)\n",
        "Recall_90 = TP_90 / len(Ground_Truth_list)\n",
        "Recall_95 = TP_95 / len(Ground_Truth_list)\n",
        "\n",
        "print(\"Recall 50 = \", Recall_50)\n",
        "print(\"Recall 55 = \", Recall_55)\n",
        "print(\"Recall 60 = \", Recall_60)\n",
        "print(\"Recall 65 = \", Recall_65)\n",
        "print(\"Recall 70 = \", Recall_70)\n",
        "print(\"Recall 75 = \", Recall_75)\n",
        "print(\"Recall 80 = \", Recall_80)\n",
        "print(\"Recall 85 = \", Recall_85)\n",
        "print(\"Recall 90 = \", Recall_90)\n",
        "print(\"Recall 95 = \", Recall_95)\n",
        "\n",
        "avg_precision = (Precision_50 + Precision_55 + Precision_60 + Precision_65 + Precision_70 + Precision_75 + Precision_80 + Precision_85 + Precision_90 + Precision_95) / 10\n",
        "print(\"Avg_Precision = \", avg_precision)\n",
        "\n",
        "avg_recall = (Recall_50 + Recall_55 + Recall_60 + Recall_65 + Recall_70 + Recall_75 + Recall_80 + Recall_85 + Recall_90 + Recall_95) / 10\n",
        "print(\"Avg_Recall = \", avg_recall)"
      ],
      "metadata": {
        "colab": {
          "base_uri": "https://localhost:8080/"
        },
        "id": "75H6WbvTTmG1",
        "outputId": "2e3dd38b-d9f7-44f8-c432-f47822a1e1f2"
      },
      "execution_count": null,
      "outputs": [
        {
          "output_type": "stream",
          "name": "stdout",
          "text": [
            "TP_50 =  100\n",
            "TP_55 =  97\n",
            "TP_60 =  94\n",
            "TP_65 =  87\n",
            "TP_70 =  81\n",
            "TP_75 =  72\n",
            "TP_80 =  53\n",
            "TP_85 =  38\n",
            "TP_90 =  18\n",
            "TP_95 =  6\n",
            "Precision 50 =  0.7936507936507936\n",
            "Precision 55 =  0.7698412698412699\n",
            "Precision 60 =  0.746031746031746\n",
            "Precision 65 =  0.6904761904761905\n",
            "Precision 70 =  0.6428571428571429\n",
            "Precision 75 =  0.5714285714285714\n",
            "Precision 80 =  0.42063492063492064\n",
            "Precision 85 =  0.30158730158730157\n",
            "Precision 90 =  0.14285714285714285\n",
            "Precision 95 =  0.047619047619047616\n",
            "Recall 50 =  0.8130081300813008\n",
            "Recall 55 =  0.7886178861788617\n",
            "Recall 60 =  0.7642276422764228\n",
            "Recall 65 =  0.7073170731707317\n",
            "Recall 70 =  0.6585365853658537\n",
            "Recall 75 =  0.5853658536585366\n",
            "Recall 80 =  0.43089430894308944\n",
            "Recall 85 =  0.3089430894308943\n",
            "Recall 90 =  0.14634146341463414\n",
            "Recall 95 =  0.04878048780487805\n",
            "Avg_Precision =  0.5126984126984128\n",
            "Avg_Recall =  0.5252032520325203\n"
          ]
        }
      ]
    },
    {
      "cell_type": "markdown",
      "source": [
        "# **mfAP**@50_70"
      ],
      "metadata": {
        "id": "fkfgjBH4ZkK-"
      }
    },
    {
      "cell_type": "code",
      "source": [
        "# !unzip 0_3_Yolo_Individual_Spark_Detection_Bbox.zip\n",
        "# !unzip 0_5_Yolo_Individual_Spark_Detection_Bbox.zip\n",
        "# !unzip 0_7_Yolo_Individual_Spark_Detection_Bbox.zip\n",
        "!unzip /content/Proposed_Detection_with_3_Filters_Universal_cnt_Area_Filter_Txt_xywh.zip"
      ],
      "metadata": {
        "id": "eeDS04h_oDCb"
      },
      "execution_count": null,
      "outputs": []
    },
    {
      "cell_type": "code",
      "source": [
        "# !unzip Ground_Truth_100_Welding_Videos_Frames_RGB_Bbox.zip\n",
        "!unzip /content/Ground_Truth_100_Welding_Videos_Frames_RGB_Bbox.zip"
      ],
      "metadata": {
        "id": "ame6bcACoRAJ"
      },
      "execution_count": null,
      "outputs": []
    },
    {
      "cell_type": "code",
      "source": [
        "# !mv /content/0_3_Yolo_Individual_Spark_Detection_Bbox/*.txt /content/Ground_Truth_100_Welding_Videos_Frames_RGB_Bbox\n",
        "# !mv /content/0_5_Yolo_Individual_Spark_Detection_Bbox/*.txt /content/Ground_Truth_100_Welding_Videos_Frames_RGB_Bbox\n",
        "!mv /content/Ground_Truth_100_Welding_Videos_Frames_RGB_Bbox/*.txt /content/Proposed_Detection_with_3_Filters_Universal_cnt_Area_Filter_Txt_xywh"
      ],
      "metadata": {
        "id": "2JnYF-d8oVww"
      },
      "execution_count": null,
      "outputs": []
    },
    {
      "cell_type": "code",
      "source": [
        "# %cd /content/Ground_Truth_100_Welding_Videos_Frames_RGB_Bbox\n",
        "%cd /content/Proposed_Detection_with_3_Filters_Universal_cnt_Area_Filter_Txt_xywh"
      ],
      "metadata": {
        "colab": {
          "base_uri": "https://localhost:8080/"
        },
        "id": "P7jXmCs0popR",
        "outputId": "4700afe6-e477-449a-e206-9cbbef9956c4"
      },
      "execution_count": null,
      "outputs": [
        {
          "output_type": "stream",
          "name": "stdout",
          "text": [
            "/content/Proposed_Detection_with_3_Filters_Universal_cnt_Area_Filter_Txt_xywh\n"
          ]
        }
      ]
    },
    {
      "cell_type": "code",
      "source": [
        "from shapely.geometry import Polygon\n",
        "import pandas as pd\n",
        "\n",
        "\n",
        "\n",
        "### variables\n",
        "d = 1\n",
        "g = 1\n",
        "x_max = 0\n",
        "y_max = 0\n",
        "Detection_xyminmax = []\n",
        "Ground_Truth_xyminmax = []\n",
        "box_D = []\n",
        "box_G = []\n",
        "\n",
        "TP_50 = 0\n",
        "TP_55 = 0\n",
        "TP_60 = 0\n",
        "TP_65 = 0\n",
        "TP_70 = 0\n",
        "# TP_75 = 0\n",
        "# TP_80 = 0\n",
        "# TP_85 = 0\n",
        "# TP_90 = 0\n",
        "# TP_95 = 0\n",
        "\n",
        "\n",
        "\n",
        "### iou calculation function\n",
        "def calculate_iou(box_1, box_2):\n",
        "    poly_1 = Polygon(box_1)\n",
        "    poly_2 = Polygon(box_2)\n",
        "    iou = poly_1.intersection(poly_2).area / poly_1.union(poly_2).area\n",
        "    return iou\n",
        "\n",
        "\n",
        "\n",
        "##############################################################################################################################\n",
        "\n",
        "\n",
        "### input data from text file Detection and Ground Truth\n",
        "# Detection_df = pd.read_csv('Detection_xywh_box_wh1_filtered.txt', sep=\" \", header=None)\n",
        "\n",
        "\n",
        "\n",
        "Detection_df = pd.read_csv('D100.txt', sep=\" \", header=None)\n",
        "Detection_list = Detection_df.values.tolist()\n",
        "\n",
        "\n",
        "\n",
        "# Ground_Truth_df = pd.read_csv('Ground_Truth_xmin_ymin_xmax_ymax_box_only_num.txt', sep=\" \", header=None)\n",
        "\n",
        "\n",
        "\n",
        "Ground_Truth_df = pd.read_csv('100.txt', sep=\" \", header=None)\n",
        "Ground_Truth_list = Ground_Truth_df.values.tolist()\n",
        "\n",
        "\n",
        "###############################################################################################################################\n",
        "\n",
        "\n",
        "\n",
        "### loop the Detection list\n",
        "for d in range(len(Detection_list)) :\n",
        "  d = d - 1\n",
        "  Detection_xywh = Detection_list[d]\n",
        "\n",
        "\n",
        "\n",
        "  # xywh to xmin ymin xmax ymax\n",
        "  x_max = Detection_xywh[0] + Detection_xywh[2]\n",
        "  y_max = Detection_xywh[1] + Detection_xywh[3]\n",
        "  Detection_xyminmax = [Detection_xywh[0], Detection_xywh[1], x_max, y_max]\n",
        "\n",
        "\n",
        "\n",
        "  # xmin ymin xmax ymax to iou box\n",
        "  box_D = [[ Detection_xyminmax[0], Detection_xyminmax[1] ], [ Detection_xyminmax[2], Detection_xyminmax[1] ], [ Detection_xyminmax[2], Detection_xyminmax[3] ], [ Detection_xyminmax[0], Detection_xyminmax[3] ]]\n",
        "\n",
        "\n",
        "\n",
        "  # loop the Ground Truth list\n",
        "  for g in range(len(Ground_Truth_list)) :\n",
        "    g = g - 1\n",
        "    Ground_Truth_xyminmax = Ground_Truth_list[g]\n",
        "\n",
        "\n",
        "\n",
        "    # xmin ymin xmax ymax to iou box\n",
        "    box_G = [[ Ground_Truth_xyminmax[0], Ground_Truth_xyminmax[1] ], [ Ground_Truth_xyminmax[2], Ground_Truth_xyminmax[1] ], [ Ground_Truth_xyminmax[2], Ground_Truth_xyminmax[3] ], [ Ground_Truth_xyminmax[0], Ground_Truth_xyminmax[3] ]]\n",
        "\n",
        "\n",
        "\n",
        "    iou = calculate_iou(box_D, box_G)\n",
        "    # print(iou)\n",
        "\n",
        "    if iou > 0.5:\n",
        "      TP_50 = TP_50 + 1\n",
        "      if iou > 0.55:\n",
        "        TP_55 = TP_55 + 1\n",
        "        if iou > 0.6:\n",
        "          TP_60 = TP_60 + 1\n",
        "          if iou > 0.65:\n",
        "            TP_65 = TP_65 + 1\n",
        "            if iou > 0.7:\n",
        "              TP_70 = TP_70 + 1\n",
        "              # if iou > 0.75:\n",
        "              #   TP_75 = TP_75 + 1\n",
        "              #   if iou > 0.8:\n",
        "              #     TP_80 = TP_80 + 1\n",
        "              #     if iou > 0.85:\n",
        "              #       TP_85 = TP_85 + 1\n",
        "              #       if iou > 0.9:\n",
        "              #         TP_90 = TP_90 + 1\n",
        "              #         if iou > 0.95:\n",
        "              #           TP_95 = TP_95 + 1\n",
        "    else:\n",
        "      pass\n",
        "\n",
        "\n",
        "\n",
        "print(\"TP_50 = \", TP_50)\n",
        "print(\"TP_55 = \", TP_55)\n",
        "print(\"TP_60 = \", TP_60)\n",
        "print(\"TP_65 = \", TP_65)\n",
        "print(\"TP_70 = \", TP_70)\n",
        "# print(\"TP_75 = \", TP_75)\n",
        "# print(\"TP_80 = \", TP_80)\n",
        "# print(\"TP_85 = \", TP_85)\n",
        "# print(\"TP_90 = \", TP_90)\n",
        "# print(\"TP_95 = \", TP_95)\n",
        "\n",
        "\n",
        "\n",
        "Precision_50 = TP_50 / len(Detection_list)\n",
        "Precision_55 = TP_55 / len(Detection_list)\n",
        "Precision_60 = TP_60 / len(Detection_list)\n",
        "Precision_65 = TP_65 / len(Detection_list)\n",
        "Precision_70 = TP_70 / len(Detection_list)\n",
        "# Precision_75 = TP_75 / len(Detection_list)\n",
        "# Precision_80 = TP_80 / len(Detection_list)\n",
        "# Precision_85 = TP_85 / len(Detection_list)\n",
        "# Precision_90 = TP_90 / len(Detection_list)\n",
        "# Precision_95 = TP_95 / len(Detection_list)\n",
        "\n",
        "\n",
        "\n",
        "print(\"Precision_50 = \", Precision_50)\n",
        "print(\"Precision_55 = \", Precision_55)\n",
        "print(\"Precision_60 = \", Precision_60)\n",
        "print(\"Precision_65 = \", Precision_65)\n",
        "print(\"Precision_70 = \", Precision_70)\n",
        "# print(\"Precision 75 = \", Precision_75)\n",
        "# print(\"Precision 80 = \", Precision_80)\n",
        "# print(\"Precision 85 = \", Precision_85)\n",
        "# print(\"Precision 90 = \", Precision_90)\n",
        "# print(\"Precision 95 = \", Precision_95)\n",
        "\n",
        "\n",
        "\n",
        "Recall_50 = TP_50 / len(Ground_Truth_list)\n",
        "Recall_55 = TP_55 / len(Ground_Truth_list)\n",
        "Recall_60 = TP_60 / len(Ground_Truth_list)\n",
        "Recall_65 = TP_65 / len(Ground_Truth_list)\n",
        "Recall_70 = TP_70 / len(Ground_Truth_list)\n",
        "# Recall_75 = TP_75 / len(Ground_Truth_list)\n",
        "# Recall_80 = TP_80 / len(Ground_Truth_list)\n",
        "# Recall_85 = TP_85 / len(Ground_Truth_list)\n",
        "# Recall_90 = TP_90 / len(Ground_Truth_list)\n",
        "# Recall_95 = TP_95 / len(Ground_Truth_list)\n",
        "\n",
        "\n",
        "\n",
        "print(\"Recall_50 = \", Recall_50)\n",
        "print(\"Recall_55 = \", Recall_55)\n",
        "print(\"Recall_60 = \", Recall_60)\n",
        "print(\"Recall_65 = \", Recall_65)\n",
        "print(\"Recall_70 = \", Recall_70)\n",
        "# print(\"Recall 75 = \", Recall_75)\n",
        "# print(\"Recall 80 = \", Recall_80)\n",
        "# print(\"Recall 85 = \", Recall_85)\n",
        "# print(\"Recall 90 = \", Recall_90)\n",
        "# print(\"Recall 95 = \", Recall_95)\n",
        "\n",
        "\n",
        "\n",
        "# avg_precision = (Precision_50 + Precision_55 + Precision_60 + Precision_65 + Precision_70 + Precision_75 + Precision_80 + Precision_85 + Precision_90 + Precision_95) / 10\n",
        "# print(\"Avg_Precision = \", avg_precision)\n",
        "\n",
        "\n",
        "\n",
        "avg_precision = ( Precision_50 + Precision_55 + Precision_60 + Precision_65 + Precision_70 ) / 5\n",
        "print(\"Avg_Precision = \", avg_precision)\n",
        "\n",
        "\n",
        "\n",
        "# avg_recall = (Recall_50 + Recall_55 + Recall_60 + Recall_65 + Recall_70 + Recall_75 + Recall_80 + Recall_85 + Recall_90 + Recall_95) / 10\n",
        "# print(\"Avg_Recall = \", avg_recall)\n",
        "\n",
        "\n",
        "\n",
        "avg_recall = ( Recall_50 + Recall_55 + Recall_60 + Recall_65 + Recall_70 ) / 5\n",
        "print(\"Avg_Recall = \", avg_recall)\n",
        "\n",
        "\n"
      ],
      "metadata": {
        "colab": {
          "base_uri": "https://localhost:8080/"
        },
        "id": "r7f-j3C_ZviY",
        "outputId": "b3298239-9572-44fe-a032-06106b9ff411"
      },
      "execution_count": null,
      "outputs": [
        {
          "output_type": "stream",
          "name": "stdout",
          "text": [
            "TP_50 =  12\n",
            "TP_55 =  11\n",
            "TP_60 =  6\n",
            "TP_65 =  4\n",
            "TP_70 =  3\n",
            "Precision_50 =  0.11320754716981132\n",
            "Precision_55 =  0.10377358490566038\n",
            "Precision_60 =  0.05660377358490566\n",
            "Precision_65 =  0.03773584905660377\n",
            "Precision_70 =  0.02830188679245283\n",
            "Recall_50 =  0.08333333333333333\n",
            "Recall_55 =  0.0763888888888889\n",
            "Recall_60 =  0.041666666666666664\n",
            "Recall_65 =  0.027777777777777776\n",
            "Recall_70 =  0.020833333333333332\n",
            "Avg_Precision =  0.06792452830188679\n",
            "Avg_Recall =  0.049999999999999996\n"
          ]
        }
      ]
    },
    {
      "cell_type": "code",
      "source": [],
      "metadata": {
        "id": "UrWNSBe_E__V"
      },
      "execution_count": null,
      "outputs": []
    }
  ]
}