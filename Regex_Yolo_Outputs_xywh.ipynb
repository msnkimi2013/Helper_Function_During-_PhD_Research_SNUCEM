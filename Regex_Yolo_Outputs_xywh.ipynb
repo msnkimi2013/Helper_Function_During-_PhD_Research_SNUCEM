{
  "nbformat": 4,
  "nbformat_minor": 0,
  "metadata": {
    "colab": {
      "provenance": []
    },
    "kernelspec": {
      "name": "python3",
      "display_name": "Python 3"
    },
    "language_info": {
      "name": "python"
    }
  },
  "cells": [
    {
      "cell_type": "code",
      "execution_count": null,
      "metadata": {
        "colab": {
          "base_uri": "https://localhost:8080/"
        },
        "id": "TxuSeEc8_-pT",
        "outputId": "06d46c23-ab8a-450e-c29b-00ef17d21741"
      },
      "outputs": [
        {
          "output_type": "stream",
          "name": "stdout",
          "text": [
            "['spark: 53%      (left_x: 1011   top_y: 1001   width:   48   height:   56)\\n', 'spark: 87%      (left_x: 1096   top_y:   -2   width:   76   height:   40)\\n', 'spark: 50%      (left_x: 1119   top_y:   -3   width:   81   height:   41)\\n', 'spark: 97%      (left_x: 1203   top_y:  813   width:   62   height:   79)\\n', 'spark: 86%      (left_x: 1420   top_y: 1029   width:   67   height:   56)\\n', 'spark: 56%      (left_x: 1837   top_y:   88   width:   25   height:   19)\\n', 'spark: 72%      (left_x: 1892   top_y:  139   width:   29   height:   83)\\n']\n",
            "7\n",
            "spark: 53%      (left_x: 1011   top_y: 1001   width:   48   height:   56)\n",
            "\n"
          ]
        }
      ],
      "source": [
        "# text = 'spark: 39%      (left_x:  114   top_y:  432   width:   21   height:   29)'\n",
        "# f = open('/content/1.txt', 'r')\n",
        "# contents = f.readlines()\n",
        "# print(contents)\n",
        "# print(len(contents))\n",
        "# print(contents[0])"
      ]
    },
    {
      "cell_type": "code",
      "source": [
        "# import re\n",
        "# import pandas as pd"
      ],
      "metadata": {
        "id": "iGNcd1PlAQbs"
      },
      "execution_count": null,
      "outputs": []
    },
    {
      "cell_type": "code",
      "source": [
        "# upload 1.txt - 100.txt frome Prediction 0.3 0.5 0.7\n",
        "\n",
        "\n",
        "import re\n",
        "import pandas as pd\n",
        "\n",
        "# text = 'spark: 39%      (left_x:  114   top_y:  432   width:   21   height:   29)'\n",
        "f = open('/content/1.txt', 'r')\n",
        "contents = f.readlines()\n",
        "# print(contents)\n",
        "# print(len(contents))\n",
        "# print(contents[0])\n",
        "\n",
        "# variables\n",
        "xywh_list = []\n",
        "xywh_Big_list = []\n",
        "A = 0\n",
        "\n",
        "\n",
        "pattern = re.compile(r'-?\\d{1,4}')\n",
        "for i in range(len(contents)):\n",
        "\n",
        "  matches = pattern.findall(contents[i])\n",
        "  #print(matches)\n",
        "  i = i + 1\n",
        "\n",
        "  for math in matches:\n",
        "    A = int(math)\n",
        "    xywh_list.append(A)\n",
        "    if len(xywh_list) > 4:\n",
        "      xywh_Big_list.append(xywh_list)\n",
        "      xywh_list = []\n",
        "\n",
        "#print(xywh_Big_list)\n",
        "df = pd.DataFrame(xywh_Big_list)\n",
        "df = df.drop(columns=[0])\n",
        "#print(df.iloc[0,0])\n",
        "\n",
        "df.to_csv(r'/content/M1.txt', header=None, index=None, sep=' ', mode='a')"
      ],
      "metadata": {
        "colab": {
          "base_uri": "https://localhost:8080/"
        },
        "id": "c7PLd5rhAY8Q",
        "outputId": "088e31b9-d3c5-4255-faf4-b301b133ceb9"
      },
      "execution_count": null,
      "outputs": [
        {
          "output_type": "stream",
          "name": "stdout",
          "text": [
            "789\n"
          ]
        }
      ]
    },
    {
      "cell_type": "code",
      "source": [
        "# !pwd"
      ],
      "metadata": {
        "colab": {
          "base_uri": "https://localhost:8080/"
        },
        "id": "NN1FEAS-wN7R",
        "outputId": "82baf18f-8e58-4606-bfed-0e38d855fa62"
      },
      "execution_count": null,
      "outputs": [
        {
          "output_type": "stream",
          "name": "stdout",
          "text": [
            "/content\n"
          ]
        }
      ]
    },
    {
      "cell_type": "code",
      "source": [
        "# helper function 1st\n",
        "!mkdir ./modified/"
      ],
      "metadata": {
        "id": "mTHkl1I3C__Q",
        "colab": {
          "base_uri": "https://localhost:8080/"
        },
        "outputId": "c4ac90f3-556b-45fa-c271-ac4ca3a44a48"
      },
      "execution_count": null,
      "outputs": [
        {
          "output_type": "stream",
          "name": "stdout",
          "text": [
            "mkdir: cannot create directory ‘./modified/’: File exists\n"
          ]
        }
      ]
    },
    {
      "cell_type": "code",
      "source": [
        "# helper function 2nd\n",
        "!mv *.txt ./modified/"
      ],
      "metadata": {
        "colab": {
          "base_uri": "https://localhost:8080/"
        },
        "id": "3XO2fJ8MeRvF",
        "outputId": "89bea45d-59a8-434d-9c69-e9d6c7584a2a"
      },
      "execution_count": null,
      "outputs": [
        {
          "output_type": "stream",
          "name": "stdout",
          "text": [
            "mv: cannot stat '*.txt': No such file or directory\n"
          ]
        }
      ]
    },
    {
      "cell_type": "code",
      "source": [
        "# helper function 3rd then download\n",
        "!zip -r modified.zip ./modified/"
      ],
      "metadata": {
        "colab": {
          "base_uri": "https://localhost:8080/"
        },
        "id": "lQMKIfyIjNxd",
        "outputId": "f820231a-8263-4aa8-8f74-534e7c9cb657"
      },
      "execution_count": null,
      "outputs": [
        {
          "output_type": "stream",
          "name": "stdout",
          "text": [
            "  adding: modified/ (stored 0%)\n",
            "  adding: modified/M1.txt (deflated 38%)\n",
            "  adding: modified/M2.txt (deflated 56%)\n",
            "  adding: modified/1.txt (deflated 71%)\n",
            "  adding: modified/2.txt (deflated 84%)\n"
          ]
        }
      ]
    },
    {
      "cell_type": "markdown",
      "source": [
        "# AAAAAAAAAAAAAAAAAAAAAAAAAAAAAAAAAAAAAAAAAAAAAAAAAAAAAAAAAAAAAAAAAAAAAAAAAAAAAAAAAAAAAAAAAAAAAAAAAAAAAAAAAAAAAAAAAAAAAAAAAAAA"
      ],
      "metadata": {
        "id": "jmy8e-RISG1P"
      }
    },
    {
      "cell_type": "markdown",
      "source": [
        "# Regex\n",
        "# Vmin = 250"
      ],
      "metadata": {
        "id": "wLfAdmDLLO9-"
      }
    },
    {
      "cell_type": "code",
      "source": [
        "# upload HSV_List.txt\n",
        "\n",
        "# 1\n",
        "# {'hmin': 0, 'smin': 0, 'vmin': 0, 'hmax': 179, 'smax': 0, 'vmax': 255}\n",
        "\n",
        "import re\n",
        "import pandas as pd\n",
        "\n",
        "\n",
        "\n",
        "f = open('/content/HSV_List.txt', 'r')\n",
        "contents = f.readlines()\n",
        "\n",
        "# print(contents)\n",
        "# print(len(contents))\n",
        "# print(contents[0])\n",
        "\n",
        "\n",
        "\n",
        "# variables\n",
        "\n",
        "# num_list = []\n",
        "\n",
        "num_Big_list =[]\n",
        "\n",
        "hsv6_list = []\n",
        "hsv6_Big_list = []\n",
        "A = 0\n",
        "B = 0\n",
        "\n",
        "\n",
        "# Regex\n",
        "\n",
        "pattern = re.compile(r'-?\\d{1,4}')\n",
        "\n",
        "for i in range(1,5203):\n",
        "\n",
        "  # print(i)\n",
        "\n",
        "  matches = pattern.findall(contents[i-1])\n",
        "\n",
        "  #print(matches)\n",
        "\n",
        "  if (i % 2 == 0) :\n",
        "\n",
        "    for math in matches:\n",
        "      A = int(math)\n",
        "\n",
        "      # print(A)\n",
        "\n",
        "      hsv6_list.append(A)\n",
        "\n",
        "      if len(hsv6_list) > 5:\n",
        "        hsv6_Big_list.append(hsv6_list)\n",
        "        hsv6_list = []\n",
        "\n",
        "  else:\n",
        "    for math in matches:\n",
        "\n",
        "      B = int(math)\n",
        "\n",
        "      #print(B)\n",
        "\n",
        "      num_Big_list.append(B)\n",
        "\n",
        "\n",
        "##################################\n",
        "\n",
        "h_list = []\n",
        "\n",
        "# print(len(hsv6_Big_list))\n",
        "\n",
        "for h in range(1, len(hsv6_Big_list)+1):\n",
        "  # print(h)\n",
        "\n",
        "  if hsv6_Big_list[h-1][2] == 250:\n",
        "    print(h)\n",
        "    h_list.append(h)\n",
        "\n",
        "print(h_list)\n",
        "\n",
        "#     h_list.append(h)\n",
        "# print(h_list)\n",
        "# print(len(h_list))\n",
        "####################################\n",
        "\n",
        "#print(num_Big_list)\n",
        "# df = pd.DataFrame(hsv6_Big_list)\n",
        "# df1 = pd.DataFrame(num_Big_list)\n",
        "# df1"
      ],
      "metadata": {
        "id": "KuAlAPwQleZv",
        "colab": {
          "base_uri": "https://localhost:8080/"
        },
        "outputId": "6b6d65e4-27de-46e7-bc68-ca923c9abdb9"
      },
      "execution_count": null,
      "outputs": [
        {
          "output_type": "stream",
          "name": "stdout",
          "text": [
            "51\n",
            "102\n",
            "153\n",
            "204\n",
            "255\n",
            "306\n",
            "357\n",
            "408\n",
            "459\n",
            "510\n",
            "561\n",
            "612\n",
            "663\n",
            "714\n",
            "765\n",
            "816\n",
            "867\n",
            "918\n",
            "969\n",
            "1020\n",
            "1071\n",
            "1122\n",
            "1173\n",
            "1224\n",
            "1275\n",
            "1326\n",
            "1377\n",
            "1428\n",
            "1479\n",
            "1530\n",
            "1581\n",
            "1632\n",
            "1683\n",
            "1734\n",
            "1785\n",
            "1836\n",
            "1887\n",
            "1938\n",
            "1989\n",
            "2040\n",
            "2091\n",
            "2142\n",
            "2193\n",
            "2244\n",
            "2295\n",
            "2346\n",
            "2397\n",
            "2448\n",
            "2499\n",
            "2550\n",
            "2601\n",
            "[51, 102, 153, 204, 255, 306, 357, 408, 459, 510, 561, 612, 663, 714, 765, 816, 867, 918, 969, 1020, 1071, 1122, 1173, 1224, 1275, 1326, 1377, 1428, 1479, 1530, 1581, 1632, 1683, 1734, 1785, 1836, 1887, 1938, 1989, 2040, 2091, 2142, 2193, 2244, 2295, 2346, 2397, 2448, 2499, 2550, 2601]\n"
          ]
        }
      ]
    },
    {
      "cell_type": "markdown",
      "source": [
        "# BBBBBBBBBBBBBBBBBBBBBBBBBBBBBBBBBBBBBBBBBBBBBBBBBBBBBBBBBBBBBBBBBBBBBBBBBBBBBBBBBBBBBBBBBBBBBBBBBBBBBBBBBBBBBBBBBBBBBBBBBBBBBBBBBBBBBBBBBBBBBBBBBBBBBBBBBBBBB"
      ],
      "metadata": {
        "id": "pUwl29s9SZsC"
      }
    },
    {
      "cell_type": "markdown",
      "source": [
        "# Selected Vmin=250 jpg_num move to another folder\n",
        "# *helper fuction*"
      ],
      "metadata": {
        "id": "vXtDw1Gju_wC"
      }
    },
    {
      "cell_type": "code",
      "source": [
        "# h_list get from above cell\n",
        "\n",
        "h_list\n",
        "\n",
        "# variables\n",
        "\n",
        "# move_comma_list = []\n",
        "# Y = \"\"\n",
        "\n",
        "Z_list = []\n",
        "\n",
        "for x in range(0, len(h_list)):\n",
        "  Z = str(h_list[x])\n",
        "  # Y = Y + Z + \".jpg,\"\n",
        "  # print(Z+\".jpg,\")\n",
        "\n",
        "  # mainly changabel line *****************\n",
        "  Z_list.append(\"copy C:/AAA_2601_color_mask/89-100/100/\" + Z + \".jpg\" + \" C:/AAA_2601_color_mask/89-100/100/moved\")\n",
        "\n",
        "# print(Y)\n",
        "\n",
        "print(Z_list)\n",
        "\n",
        "# move_comma_list.append(Z+\".jpg,\")\n",
        "# print(move_comma_list)\n",
        "\n",
        "# write Z_list into a txt file\n",
        "\n",
        "with open(\"bat.txt\", \"w\") as outfile:\n",
        "  for z in Z_list:\n",
        "    outfile.write(z)\n",
        "    outfile.write(\"\\n\")\n",
        "  outfile.close"
      ],
      "metadata": {
        "colab": {
          "base_uri": "https://localhost:8080/"
        },
        "id": "s_lmNS3PRahE",
        "outputId": "3c156179-a297-44aa-b055-eb2e48396018"
      },
      "execution_count": null,
      "outputs": [
        {
          "output_type": "stream",
          "name": "stdout",
          "text": [
            "['copy C:/AAA_2601_color_mask/89-100/100/51.jpg C:/AAA_2601_color_mask/89-100/100/moved', 'copy C:/AAA_2601_color_mask/89-100/100/102.jpg C:/AAA_2601_color_mask/89-100/100/moved', 'copy C:/AAA_2601_color_mask/89-100/100/153.jpg C:/AAA_2601_color_mask/89-100/100/moved', 'copy C:/AAA_2601_color_mask/89-100/100/204.jpg C:/AAA_2601_color_mask/89-100/100/moved', 'copy C:/AAA_2601_color_mask/89-100/100/255.jpg C:/AAA_2601_color_mask/89-100/100/moved', 'copy C:/AAA_2601_color_mask/89-100/100/306.jpg C:/AAA_2601_color_mask/89-100/100/moved', 'copy C:/AAA_2601_color_mask/89-100/100/357.jpg C:/AAA_2601_color_mask/89-100/100/moved', 'copy C:/AAA_2601_color_mask/89-100/100/408.jpg C:/AAA_2601_color_mask/89-100/100/moved', 'copy C:/AAA_2601_color_mask/89-100/100/459.jpg C:/AAA_2601_color_mask/89-100/100/moved', 'copy C:/AAA_2601_color_mask/89-100/100/510.jpg C:/AAA_2601_color_mask/89-100/100/moved', 'copy C:/AAA_2601_color_mask/89-100/100/561.jpg C:/AAA_2601_color_mask/89-100/100/moved', 'copy C:/AAA_2601_color_mask/89-100/100/612.jpg C:/AAA_2601_color_mask/89-100/100/moved', 'copy C:/AAA_2601_color_mask/89-100/100/663.jpg C:/AAA_2601_color_mask/89-100/100/moved', 'copy C:/AAA_2601_color_mask/89-100/100/714.jpg C:/AAA_2601_color_mask/89-100/100/moved', 'copy C:/AAA_2601_color_mask/89-100/100/765.jpg C:/AAA_2601_color_mask/89-100/100/moved', 'copy C:/AAA_2601_color_mask/89-100/100/816.jpg C:/AAA_2601_color_mask/89-100/100/moved', 'copy C:/AAA_2601_color_mask/89-100/100/867.jpg C:/AAA_2601_color_mask/89-100/100/moved', 'copy C:/AAA_2601_color_mask/89-100/100/918.jpg C:/AAA_2601_color_mask/89-100/100/moved', 'copy C:/AAA_2601_color_mask/89-100/100/969.jpg C:/AAA_2601_color_mask/89-100/100/moved', 'copy C:/AAA_2601_color_mask/89-100/100/1020.jpg C:/AAA_2601_color_mask/89-100/100/moved', 'copy C:/AAA_2601_color_mask/89-100/100/1071.jpg C:/AAA_2601_color_mask/89-100/100/moved', 'copy C:/AAA_2601_color_mask/89-100/100/1122.jpg C:/AAA_2601_color_mask/89-100/100/moved', 'copy C:/AAA_2601_color_mask/89-100/100/1173.jpg C:/AAA_2601_color_mask/89-100/100/moved', 'copy C:/AAA_2601_color_mask/89-100/100/1224.jpg C:/AAA_2601_color_mask/89-100/100/moved', 'copy C:/AAA_2601_color_mask/89-100/100/1275.jpg C:/AAA_2601_color_mask/89-100/100/moved', 'copy C:/AAA_2601_color_mask/89-100/100/1326.jpg C:/AAA_2601_color_mask/89-100/100/moved', 'copy C:/AAA_2601_color_mask/89-100/100/1377.jpg C:/AAA_2601_color_mask/89-100/100/moved', 'copy C:/AAA_2601_color_mask/89-100/100/1428.jpg C:/AAA_2601_color_mask/89-100/100/moved', 'copy C:/AAA_2601_color_mask/89-100/100/1479.jpg C:/AAA_2601_color_mask/89-100/100/moved', 'copy C:/AAA_2601_color_mask/89-100/100/1530.jpg C:/AAA_2601_color_mask/89-100/100/moved', 'copy C:/AAA_2601_color_mask/89-100/100/1581.jpg C:/AAA_2601_color_mask/89-100/100/moved', 'copy C:/AAA_2601_color_mask/89-100/100/1632.jpg C:/AAA_2601_color_mask/89-100/100/moved', 'copy C:/AAA_2601_color_mask/89-100/100/1683.jpg C:/AAA_2601_color_mask/89-100/100/moved', 'copy C:/AAA_2601_color_mask/89-100/100/1734.jpg C:/AAA_2601_color_mask/89-100/100/moved', 'copy C:/AAA_2601_color_mask/89-100/100/1785.jpg C:/AAA_2601_color_mask/89-100/100/moved', 'copy C:/AAA_2601_color_mask/89-100/100/1836.jpg C:/AAA_2601_color_mask/89-100/100/moved', 'copy C:/AAA_2601_color_mask/89-100/100/1887.jpg C:/AAA_2601_color_mask/89-100/100/moved', 'copy C:/AAA_2601_color_mask/89-100/100/1938.jpg C:/AAA_2601_color_mask/89-100/100/moved', 'copy C:/AAA_2601_color_mask/89-100/100/1989.jpg C:/AAA_2601_color_mask/89-100/100/moved', 'copy C:/AAA_2601_color_mask/89-100/100/2040.jpg C:/AAA_2601_color_mask/89-100/100/moved', 'copy C:/AAA_2601_color_mask/89-100/100/2091.jpg C:/AAA_2601_color_mask/89-100/100/moved', 'copy C:/AAA_2601_color_mask/89-100/100/2142.jpg C:/AAA_2601_color_mask/89-100/100/moved', 'copy C:/AAA_2601_color_mask/89-100/100/2193.jpg C:/AAA_2601_color_mask/89-100/100/moved', 'copy C:/AAA_2601_color_mask/89-100/100/2244.jpg C:/AAA_2601_color_mask/89-100/100/moved', 'copy C:/AAA_2601_color_mask/89-100/100/2295.jpg C:/AAA_2601_color_mask/89-100/100/moved', 'copy C:/AAA_2601_color_mask/89-100/100/2346.jpg C:/AAA_2601_color_mask/89-100/100/moved', 'copy C:/AAA_2601_color_mask/89-100/100/2397.jpg C:/AAA_2601_color_mask/89-100/100/moved', 'copy C:/AAA_2601_color_mask/89-100/100/2448.jpg C:/AAA_2601_color_mask/89-100/100/moved', 'copy C:/AAA_2601_color_mask/89-100/100/2499.jpg C:/AAA_2601_color_mask/89-100/100/moved', 'copy C:/AAA_2601_color_mask/89-100/100/2550.jpg C:/AAA_2601_color_mask/89-100/100/moved', 'copy C:/AAA_2601_color_mask/89-100/100/2601.jpg C:/AAA_2601_color_mask/89-100/100/moved']\n"
          ]
        }
      ]
    },
    {
      "cell_type": "markdown",
      "source": [
        "move stats.doc, morestats.doc c:\\statistics"
      ],
      "metadata": {
        "id": "MpxgISXRXmjQ"
      }
    },
    {
      "cell_type": "markdown",
      "source": [
        "# CCCCCCCCCCCCCCCCCCCCCCCCCCCCCCCCCCCCCCCCCCCCCCCCCCCCCCCCCCCCCCCCCCCCCCCCCCCCCCCCCCCCCCCCCCCCCCCCCCCCCCCCCCCCCCCCCCCCCCCCCCCCCCCCCCCCCCCCCCCCCCCCCCCCCCCCCCCCCCC"
      ],
      "metadata": {
        "id": "XLSNhYspSldO"
      }
    },
    {
      "cell_type": "code",
      "source": [
        "# h_list get from above cell\n",
        "\n",
        "h_list\n",
        "\n",
        "# variables\n",
        "\n",
        "Multi_img_list = []\n",
        "\n",
        "for m in range(0, len(h_list)):\n",
        "  M = str(h_list[m])\n",
        "  Multi_img_list.append(\"/content/darknet/data/Vmin250_ColorMask/A/\" + M + \".jpg\")\n",
        "\n",
        "\n",
        "print(Multi_img_list)\n",
        "\n",
        "# write Multi_img_list into a txt\n",
        "\n",
        "with open(\"multi_image.txt\", \"w\") as outfile:\n",
        "  for m1 in Multi_img_list:\n",
        "    outfile.write(m1)\n",
        "    outfile.write(\"\\n\")\n",
        "  outfile.close"
      ],
      "metadata": {
        "colab": {
          "base_uri": "https://localhost:8080/"
        },
        "id": "cy9g2G-uSyv_",
        "outputId": "3f2a95e6-81bc-46cf-a36e-d826f87d854e"
      },
      "execution_count": null,
      "outputs": [
        {
          "output_type": "stream",
          "name": "stdout",
          "text": [
            "['/content/darknet/data/Vmin250_ColorMask/A/51.jpg', '/content/darknet/data/Vmin250_ColorMask/A/102.jpg', '/content/darknet/data/Vmin250_ColorMask/A/153.jpg', '/content/darknet/data/Vmin250_ColorMask/A/204.jpg', '/content/darknet/data/Vmin250_ColorMask/A/255.jpg', '/content/darknet/data/Vmin250_ColorMask/A/306.jpg', '/content/darknet/data/Vmin250_ColorMask/A/357.jpg', '/content/darknet/data/Vmin250_ColorMask/A/408.jpg', '/content/darknet/data/Vmin250_ColorMask/A/459.jpg', '/content/darknet/data/Vmin250_ColorMask/A/510.jpg', '/content/darknet/data/Vmin250_ColorMask/A/561.jpg', '/content/darknet/data/Vmin250_ColorMask/A/612.jpg', '/content/darknet/data/Vmin250_ColorMask/A/663.jpg', '/content/darknet/data/Vmin250_ColorMask/A/714.jpg', '/content/darknet/data/Vmin250_ColorMask/A/765.jpg', '/content/darknet/data/Vmin250_ColorMask/A/816.jpg', '/content/darknet/data/Vmin250_ColorMask/A/867.jpg', '/content/darknet/data/Vmin250_ColorMask/A/918.jpg', '/content/darknet/data/Vmin250_ColorMask/A/969.jpg', '/content/darknet/data/Vmin250_ColorMask/A/1020.jpg', '/content/darknet/data/Vmin250_ColorMask/A/1071.jpg', '/content/darknet/data/Vmin250_ColorMask/A/1122.jpg', '/content/darknet/data/Vmin250_ColorMask/A/1173.jpg', '/content/darknet/data/Vmin250_ColorMask/A/1224.jpg', '/content/darknet/data/Vmin250_ColorMask/A/1275.jpg', '/content/darknet/data/Vmin250_ColorMask/A/1326.jpg', '/content/darknet/data/Vmin250_ColorMask/A/1377.jpg', '/content/darknet/data/Vmin250_ColorMask/A/1428.jpg', '/content/darknet/data/Vmin250_ColorMask/A/1479.jpg', '/content/darknet/data/Vmin250_ColorMask/A/1530.jpg', '/content/darknet/data/Vmin250_ColorMask/A/1581.jpg', '/content/darknet/data/Vmin250_ColorMask/A/1632.jpg', '/content/darknet/data/Vmin250_ColorMask/A/1683.jpg', '/content/darknet/data/Vmin250_ColorMask/A/1734.jpg', '/content/darknet/data/Vmin250_ColorMask/A/1785.jpg', '/content/darknet/data/Vmin250_ColorMask/A/1836.jpg', '/content/darknet/data/Vmin250_ColorMask/A/1887.jpg', '/content/darknet/data/Vmin250_ColorMask/A/1938.jpg', '/content/darknet/data/Vmin250_ColorMask/A/1989.jpg', '/content/darknet/data/Vmin250_ColorMask/A/2040.jpg', '/content/darknet/data/Vmin250_ColorMask/A/2091.jpg', '/content/darknet/data/Vmin250_ColorMask/A/2142.jpg', '/content/darknet/data/Vmin250_ColorMask/A/2193.jpg', '/content/darknet/data/Vmin250_ColorMask/A/2244.jpg', '/content/darknet/data/Vmin250_ColorMask/A/2295.jpg', '/content/darknet/data/Vmin250_ColorMask/A/2346.jpg', '/content/darknet/data/Vmin250_ColorMask/A/2397.jpg', '/content/darknet/data/Vmin250_ColorMask/A/2448.jpg', '/content/darknet/data/Vmin250_ColorMask/A/2499.jpg', '/content/darknet/data/Vmin250_ColorMask/A/2550.jpg', '/content/darknet/data/Vmin250_ColorMask/A/2601.jpg']\n"
          ]
        }
      ]
    }
  ]
}